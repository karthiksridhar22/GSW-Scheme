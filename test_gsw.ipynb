{
 "cells": [
  {
   "cell_type": "code",
   "execution_count": 130,
   "metadata": {},
   "outputs": [],
   "source": [
    "import numpy as np\n",
    "import rlwe\n",
    "import lwe"
   ]
  },
  {
   "cell_type": "code",
   "execution_count": 131,
   "metadata": {},
   "outputs": [],
   "source": [
    "def polynomial_to_string(p):\n",
    "    terms = []\n",
    "    for i, coeff in enumerate(p.coeff):\n",
    "        if coeff != 0:  # We only add non-zero terms\n",
    "            if i == 0:\n",
    "                terms.append(f\"{coeff}\")\n",
    "            elif i == 1:\n",
    "                terms.append(f\"{coeff}x\")\n",
    "            else:\n",
    "                terms.append(f\"{coeff}x^{i}\")\n",
    "    # Join all terms, handling the signs correctly\n",
    "    return \" + \".join(terms).replace(\"+-\", \"- \")"
   ]
  },
  {
   "cell_type": "code",
   "execution_count": 132,
   "metadata": {},
   "outputs": [],
   "source": [
    "lwe_config = lwe.LweConfig(dimension=1024, noise_std=2 ** (-24))"
   ]
  },
  {
   "cell_type": "code",
   "execution_count": 133,
   "metadata": {},
   "outputs": [],
   "source": [
    "lwe_key = lwe.generate_lwe_key(lwe_config)"
   ]
  },
  {
   "cell_type": "code",
   "execution_count": 134,
   "metadata": {},
   "outputs": [],
   "source": [
    "#convert lwe key to rlwe key\n",
    "rlwe_key = rlwe.convert_lwe_key_to_rlwe(lwe_key)"
   ]
  },
  {
   "cell_type": "code",
   "execution_count": 135,
   "metadata": {},
   "outputs": [],
   "source": [
    "gsw_config = rlwe.GswConfig(rlwe_config=rlwe_key.config, log_p=8)"
   ]
  },
  {
   "cell_type": "code",
   "execution_count": 136,
   "metadata": {},
   "outputs": [],
   "source": [
    "gsw_key = rlwe.convert_rlwe_key_to_gsw(rlwe_key, gsw_config)"
   ]
  },
  {
   "cell_type": "code",
   "execution_count": 137,
   "metadata": {},
   "outputs": [
    {
     "name": "stdout",
     "output_type": "stream",
     "text": [
      "1 \n",
      " 3x\n"
     ]
    }
   ],
   "source": [
    "#choosing polynomal messages f and g as 2 and 3x\n",
    "f = rlwe.build_monomial(c=1, i=0, N=rlwe_key.config.degree)\n",
    "g = rlwe.build_monomial(c=3, i=1, N=rlwe_key.config.degree)\n",
    "print(polynomial_to_string(f), \"\\n\", polynomial_to_string(g))"
   ]
  },
  {
   "cell_type": "code",
   "execution_count": 138,
   "metadata": {},
   "outputs": [],
   "source": [
    "gsw_plaintext = rlwe.GswPlaintext(config=gsw_config, message=f)\n",
    "rlwe_plaintext = rlwe.rlwe_encode(g, rlwe_key.config)"
   ]
  },
  {
   "cell_type": "code",
   "execution_count": 139,
   "metadata": {},
   "outputs": [],
   "source": [
    "gsw_ciphertext = rlwe.gsw_encrypt(gsw_plaintext, gsw_key)\n",
    "rlwe_ciphertext = rlwe.rlwe_encrypt(rlwe_plaintext, rlwe_key)"
   ]
  },
  {
   "cell_type": "code",
   "execution_count": 140,
   "metadata": {},
   "outputs": [],
   "source": [
    "rlwe_ciphertext_prod = rlwe.gsw_multiply(gsw_ciphertext, rlwe_ciphertext)\n",
    "\n",
    "fg = rlwe.build_monomial(c=2, i=1, N=rlwe_key.config.degree)"
   ]
  },
  {
   "cell_type": "code",
   "execution_count": 141,
   "metadata": {},
   "outputs": [
    {
     "name": "stdout",
     "output_type": "stream",
     "text": [
      "Polynomial(N=1024, coeff=array([0, 3, 0, ..., 0, 0, 0]))\n"
     ]
    }
   ],
   "source": [
    "p = rlwe.rlwe_decode(rlwe.rlwe_decrypt(rlwe_ciphertext_prod, rlwe_key))\n",
    "print(p)"
   ]
  },
  {
   "cell_type": "code",
   "execution_count": 142,
   "metadata": {},
   "outputs": [
    {
     "data": {
      "text/plain": [
       "'3x'"
      ]
     },
     "execution_count": 142,
     "metadata": {},
     "output_type": "execute_result"
    }
   ],
   "source": [
    "polynomial_to_string(p)"
   ]
  }
 ],
 "metadata": {
  "kernelspec": {
   "display_name": "base",
   "language": "python",
   "name": "python3"
  },
  "language_info": {
   "codemirror_mode": {
    "name": "ipython",
    "version": 3
   },
   "file_extension": ".py",
   "mimetype": "text/x-python",
   "name": "python",
   "nbconvert_exporter": "python",
   "pygments_lexer": "ipython3",
   "version": "3.11.8"
  }
 },
 "nbformat": 4,
 "nbformat_minor": 2
}

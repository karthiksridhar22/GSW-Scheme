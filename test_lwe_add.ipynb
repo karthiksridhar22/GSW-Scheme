{
 "cells": [
  {
   "cell_type": "code",
   "execution_count": 5,
   "metadata": {},
   "outputs": [],
   "source": [
    "import lwe"
   ]
  },
  {
   "cell_type": "code",
   "execution_count": 7,
   "metadata": {},
   "outputs": [],
   "source": [
    "#generating the configuration for lwe\n",
    "LWE_CONFIG = lwe.LweConfig(dimension=1024, noise_std=2 ** (-24))"
   ]
  },
  {
   "cell_type": "code",
   "execution_count": 9,
   "metadata": {},
   "outputs": [
    {
     "name": "stdout",
     "output_type": "stream",
     "text": [
      "LweEncryptionKey(config=LweConfig(dimension=1024, noise_std=5.960464477539063e-08), key=array([1, 1, 0, ..., 1, 1, 0], dtype=int32))\n"
     ]
    }
   ],
   "source": [
    "key = lwe.generate_lwe_key(LWE_CONFIG)\n",
    "print(key)"
   ]
  },
  {
   "cell_type": "code",
   "execution_count": 10,
   "metadata": {},
   "outputs": [
    {
     "name": "stdout",
     "output_type": "stream",
     "text": [
      "LwePlaintext(message=1610612736) LwePlaintext(message=-536870912)\n"
     ]
    }
   ],
   "source": [
    "#lets try adding 3 and -1 messages from Z_8\n",
    "#ecoding interers a and b by multiplying them by 2^29 s.t they are encoded as 32 bit signed integers\n",
    "plaintext_a = lwe.lwe_encode(3) \n",
    "plaintext_b = lwe.lwe_encode(-1)\n",
    "\n",
    "print(plaintext_a, plaintext_b)"
   ]
  },
  {
   "cell_type": "code",
   "execution_count": 13,
   "metadata": {},
   "outputs": [
    {
     "name": "stdout",
     "output_type": "stream",
     "text": [
      "LweCiphertext(config=LweConfig(dimension=1024, noise_std=5.960464477539063e-08), a=array([ -389905381,  2138459738,  -548729129, ..., -1690550732,\n",
      "        -906749412,   228404036], dtype=int32), b=46888941) LweCiphertext(config=LweConfig(dimension=1024, noise_std=5.960464477539063e-08), a=array([-1698889511,  -814857060,  1849182044, ...,   264831041,\n",
      "       -1594792254, -1731337235], dtype=int32), b=1193901095)\n"
     ]
    }
   ],
   "source": [
    "#encrypting the messages by uniformly sampling a from Z^1024_8 and computing the dot product with the key + encoded messages + error\n",
    "ciphertext_a = lwe.lwe_encrypt(plaintext_a, key)\n",
    "ciphertext_b = lwe.lwe_encrypt(plaintext_b, key)\n",
    "print(ciphertext_a, ciphertext_b)"
   ]
  },
  {
   "cell_type": "code",
   "execution_count": 18,
   "metadata": {},
   "outputs": [
    {
     "name": "stdout",
     "output_type": "stream",
     "text": [
      "(1024,)\n"
     ]
    }
   ],
   "source": [
    "print(ciphertext_a.a.shape)"
   ]
  },
  {
   "cell_type": "code",
   "execution_count": 19,
   "metadata": {},
   "outputs": [
    {
     "name": "stdout",
     "output_type": "stream",
     "text": [
      "LweCiphertext(config=LweConfig(dimension=1024, noise_std=5.960464477539063e-08), a=array([-2088794892,  1323602678,  1300452915, ..., -1425719691,\n",
      "        1793425630, -1502933199], dtype=int32), b=1240790036)\n"
     ]
    }
   ],
   "source": [
    "ciphertext_sum = lwe.lwe_add(ciphertext_a, ciphertext_b)\n",
    "print(ciphertext_sum)"
   ]
  },
  {
   "cell_type": "code",
   "execution_count": 21,
   "metadata": {},
   "outputs": [
    {
     "name": "stdout",
     "output_type": "stream",
     "text": [
      "2\n"
     ]
    }
   ],
   "source": [
    "#verifying the sum = 2\n",
    "decrypted_sum = lwe.lwe_decrypt(ciphertext_sum, key)\n",
    "print(lwe.lwe_decode(decrypted_sum))"
   ]
  }
 ],
 "metadata": {
  "kernelspec": {
   "display_name": "base",
   "language": "python",
   "name": "python3"
  },
  "language_info": {
   "codemirror_mode": {
    "name": "ipython",
    "version": 3
   },
   "file_extension": ".py",
   "mimetype": "text/x-python",
   "name": "python",
   "nbconvert_exporter": "python",
   "pygments_lexer": "ipython3",
   "version": "3.11.8"
  }
 },
 "nbformat": 4,
 "nbformat_minor": 2
}
